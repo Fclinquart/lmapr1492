{
 "cells": [
  {
   "cell_type": "markdown",
   "id": "8af6e0d8",
   "metadata": {},
   "source": [
    "# tâche 4 \n",
    "\n",
    "François Clinquart - 59602100 "
   ]
  },
  {
   "cell_type": "markdown",
   "id": "54830902",
   "metadata": {},
   "source": [
    "## Importation des modules nécessaire"
   ]
  },
  {
   "cell_type": "code",
   "execution_count": 1,
   "id": "1bf892d4",
   "metadata": {},
   "outputs": [
    {
     "name": "stdout",
     "output_type": "stream",
     "text": [
      "Defaulting to user installation because normal site-packages is not writeable\n",
      "Requirement already satisfied: mp-api in ./.local/lib/python3.9/site-packages (0.41.1)\n",
      "Collecting mp-api\n",
      "  Obtaining dependency information for mp-api from https://files.pythonhosted.org/packages/41/fd/5c50e88cc5db577c768984f853690110237a89c516d155c68c79f081828e/mp_api-0.41.2-py3-none-any.whl.metadata\n",
      "  Downloading mp_api-0.41.2-py3-none-any.whl.metadata (2.3 kB)\n",
      "Requirement already satisfied: setuptools in /usr/lib/python3.9/site-packages (from mp-api) (50.3.2)\n",
      "Requirement already satisfied: msgpack in /usr/local/lib64/python3.9/site-packages (from mp-api) (1.0.7)\n",
      "Requirement already satisfied: maggma>=0.57.1 in ./.local/lib/python3.9/site-packages (from mp-api) (0.63.3)\n",
      "Requirement already satisfied: pymatgen!=2024.2.20,>=2022.3.7 in ./.local/lib/python3.9/site-packages (from mp-api) (2024.2.8)\n",
      "Requirement already satisfied: typing-extensions>=3.7.4.1 in /usr/local/lib/python3.9/site-packages (from mp-api) (4.8.0)\n",
      "Requirement already satisfied: requests>=2.23.0 in /usr/local/lib/python3.9/site-packages (from mp-api) (2.31.0)\n",
      "Requirement already satisfied: monty>=2023.9.25 in ./.local/lib/python3.9/site-packages (from mp-api) (2024.2.2)\n",
      "Requirement already satisfied: emmet-core>=0.78.0rc3 in ./.local/lib/python3.9/site-packages (from mp-api) (0.78.0rc4)\n",
      "Requirement already satisfied: smart-open in ./.local/lib/python3.9/site-packages (from mp-api) (7.0.1)\n",
      "Requirement already satisfied: pydantic>=2.0 in /usr/local/lib/python3.9/site-packages (from emmet-core>=0.78.0rc3->mp-api) (2.4.2)\n",
      "Requirement already satisfied: pydantic-settings>=2.0 in /usr/local/lib/python3.9/site-packages (from emmet-core>=0.78.0rc3->mp-api) (2.0.3)\n",
      "Requirement already satisfied: pybtex~=0.24 in /usr/local/lib/python3.9/site-packages (from emmet-core>=0.78.0rc3->mp-api) (0.24.0)\n",
      "Requirement already satisfied: ruamel.yaml<0.18 in /usr/local/lib/python3.9/site-packages (from maggma>=0.57.1->mp-api) (0.17.33)\n",
      "Requirement already satisfied: pymongo>=4.2.0 in /usr/local/lib64/python3.9/site-packages (from maggma>=0.57.1->mp-api) (4.5.0)\n",
      "Requirement already satisfied: mongomock>=3.10.0 in /usr/local/lib/python3.9/site-packages (from maggma>=0.57.1->mp-api) (4.1.2)\n",
      "Requirement already satisfied: pydash>=4.1.0 in /usr/local/lib/python3.9/site-packages (from maggma>=0.57.1->mp-api) (7.0.6)\n",
      "Requirement already satisfied: jsonschema>=3.1.1 in /usr/local/lib/python3.9/site-packages (from maggma>=0.57.1->mp-api) (4.19.1)\n",
      "Requirement already satisfied: tqdm>=4.19.6 in /usr/local/lib/python3.9/site-packages (from maggma>=0.57.1->mp-api) (4.66.1)\n",
      "Requirement already satisfied: mongogrant>=0.3.1 in /usr/local/lib/python3.9/site-packages (from maggma>=0.57.1->mp-api) (0.3.3)\n",
      "Requirement already satisfied: aioitertools>=0.5.1 in /usr/local/lib/python3.9/site-packages (from maggma>=0.57.1->mp-api) (0.11.0)\n",
      "Requirement already satisfied: numpy>=1.17.3 in /usr/local/lib64/python3.9/site-packages (from maggma>=0.57.1->mp-api) (1.26.0)\n",
      "Requirement already satisfied: fastapi>=0.42.0 in /usr/local/lib/python3.9/site-packages (from maggma>=0.57.1->mp-api) (0.103.2)\n",
      "Requirement already satisfied: pyzmq>=24.0.1 in /usr/local/lib64/python3.9/site-packages (from maggma>=0.57.1->mp-api) (24.0.1)\n",
      "Requirement already satisfied: dnspython>=1.16.0 in /usr/local/lib/python3.9/site-packages (from maggma>=0.57.1->mp-api) (2.4.2)\n",
      "Requirement already satisfied: sshtunnel>=0.1.5 in /usr/local/lib/python3.9/site-packages (from maggma>=0.57.1->mp-api) (0.4.0)\n",
      "Requirement already satisfied: orjson>=3.9.0 in /usr/local/lib64/python3.9/site-packages (from maggma>=0.57.1->mp-api) (3.9.7)\n",
      "Requirement already satisfied: boto3>=1.20.41 in /usr/local/lib/python3.9/site-packages (from maggma>=0.57.1->mp-api) (1.28.58)\n",
      "Requirement already satisfied: python-dateutil>=2.8.2 in /usr/local/lib/python3.9/site-packages (from maggma>=0.57.1->mp-api) (2.8.2)\n",
      "Requirement already satisfied: uvicorn>=0.18.3 in /usr/local/lib/python3.9/site-packages (from maggma>=0.57.1->mp-api) (0.23.2)\n",
      "Requirement already satisfied: matplotlib>=1.5 in /usr/local/lib64/python3.9/site-packages (from pymatgen!=2024.2.20,>=2022.3.7->mp-api) (3.8.0)\n",
      "Requirement already satisfied: networkx>=2.2 in /usr/local/lib/python3.9/site-packages (from pymatgen!=2024.2.20,>=2022.3.7->mp-api) (3.1)\n",
      "Requirement already satisfied: palettable>=3.1.1 in /usr/local/lib/python3.9/site-packages (from pymatgen!=2024.2.20,>=2022.3.7->mp-api) (3.3.3)\n",
      "Requirement already satisfied: pandas in /usr/local/lib64/python3.9/site-packages (from pymatgen!=2024.2.20,>=2022.3.7->mp-api) (2.1.1)\n",
      "Requirement already satisfied: plotly>=4.5.0 in /usr/local/lib/python3.9/site-packages (from pymatgen!=2024.2.20,>=2022.3.7->mp-api) (5.17.0)\n",
      "Requirement already satisfied: scipy>=1.5.0 in /usr/local/lib64/python3.9/site-packages (from pymatgen!=2024.2.20,>=2022.3.7->mp-api) (1.11.3)\n",
      "Requirement already satisfied: spglib>=2.0.2 in /usr/local/lib64/python3.9/site-packages (from pymatgen!=2024.2.20,>=2022.3.7->mp-api) (2.1.0)\n",
      "Requirement already satisfied: sympy in /usr/local/lib/python3.9/site-packages (from pymatgen!=2024.2.20,>=2022.3.7->mp-api) (1.12)\n",
      "Requirement already satisfied: tabulate in /usr/local/lib/python3.9/site-packages (from pymatgen!=2024.2.20,>=2022.3.7->mp-api) (0.9.0)\n",
      "Requirement already satisfied: uncertainties>=3.1.4 in /usr/local/lib/python3.9/site-packages (from pymatgen!=2024.2.20,>=2022.3.7->mp-api) (3.1.7)\n",
      "Requirement already satisfied: joblib in /usr/local/lib/python3.9/site-packages (from pymatgen!=2024.2.20,>=2022.3.7->mp-api) (1.3.2)\n",
      "Requirement already satisfied: charset-normalizer<4,>=2 in /usr/local/lib64/python3.9/site-packages (from requests>=2.23.0->mp-api) (3.3.0)\n",
      "Requirement already satisfied: idna<4,>=2.5 in /usr/local/lib/python3.9/site-packages (from requests>=2.23.0->mp-api) (3.4)\n",
      "Requirement already satisfied: urllib3<3,>=1.21.1 in /usr/local/lib/python3.9/site-packages (from requests>=2.23.0->mp-api) (1.26.17)\n",
      "Requirement already satisfied: certifi>=2017.4.17 in /usr/local/lib/python3.9/site-packages (from requests>=2.23.0->mp-api) (2023.7.22)\n",
      "Requirement already satisfied: wrapt in ./.local/lib/python3.9/site-packages (from smart-open->mp-api) (1.16.0)\n",
      "Requirement already satisfied: botocore<1.32.0,>=1.31.58 in /usr/local/lib/python3.9/site-packages (from boto3>=1.20.41->maggma>=0.57.1->mp-api) (1.31.58)\n",
      "Requirement already satisfied: jmespath<2.0.0,>=0.7.1 in /usr/local/lib/python3.9/site-packages (from boto3>=1.20.41->maggma>=0.57.1->mp-api) (1.0.1)\n",
      "Requirement already satisfied: s3transfer<0.8.0,>=0.7.0 in /usr/local/lib/python3.9/site-packages (from boto3>=1.20.41->maggma>=0.57.1->mp-api) (0.7.0)\n",
      "Requirement already satisfied: anyio<4.0.0,>=3.7.1 in /usr/local/lib/python3.9/site-packages (from fastapi>=0.42.0->maggma>=0.57.1->mp-api) (3.7.1)\n",
      "Requirement already satisfied: starlette<0.28.0,>=0.27.0 in /usr/local/lib/python3.9/site-packages (from fastapi>=0.42.0->maggma>=0.57.1->mp-api) (0.27.0)\n",
      "Requirement already satisfied: attrs>=22.2.0 in /usr/local/lib/python3.9/site-packages (from jsonschema>=3.1.1->maggma>=0.57.1->mp-api) (23.1.0)\n",
      "Requirement already satisfied: jsonschema-specifications>=2023.03.6 in /usr/local/lib/python3.9/site-packages (from jsonschema>=3.1.1->maggma>=0.57.1->mp-api) (2023.7.1)\n",
      "Requirement already satisfied: referencing>=0.28.4 in /usr/local/lib/python3.9/site-packages (from jsonschema>=3.1.1->maggma>=0.57.1->mp-api) (0.30.2)\n",
      "Requirement already satisfied: rpds-py>=0.7.1 in /usr/local/lib64/python3.9/site-packages (from jsonschema>=3.1.1->maggma>=0.57.1->mp-api) (0.10.3)\n",
      "Requirement already satisfied: contourpy>=1.0.1 in /usr/local/lib64/python3.9/site-packages (from matplotlib>=1.5->pymatgen!=2024.2.20,>=2022.3.7->mp-api) (1.1.1)\n",
      "Requirement already satisfied: cycler>=0.10 in /usr/local/lib/python3.9/site-packages (from matplotlib>=1.5->pymatgen!=2024.2.20,>=2022.3.7->mp-api) (0.12.0)\n",
      "Requirement already satisfied: fonttools>=4.22.0 in /usr/local/lib64/python3.9/site-packages (from matplotlib>=1.5->pymatgen!=2024.2.20,>=2022.3.7->mp-api) (4.43.0)\n",
      "Requirement already satisfied: kiwisolver>=1.0.1 in /usr/local/lib64/python3.9/site-packages (from matplotlib>=1.5->pymatgen!=2024.2.20,>=2022.3.7->mp-api) (1.4.5)\n",
      "Requirement already satisfied: packaging>=20.0 in /usr/local/lib/python3.9/site-packages (from matplotlib>=1.5->pymatgen!=2024.2.20,>=2022.3.7->mp-api) (23.2)\n",
      "Requirement already satisfied: pillow>=6.2.0 in /usr/local/lib64/python3.9/site-packages (from matplotlib>=1.5->pymatgen!=2024.2.20,>=2022.3.7->mp-api) (10.0.1)\n",
      "Requirement already satisfied: pyparsing>=2.3.1 in /usr/local/lib/python3.9/site-packages (from matplotlib>=1.5->pymatgen!=2024.2.20,>=2022.3.7->mp-api) (3.1.1)\n",
      "Requirement already satisfied: importlib-resources>=3.2.0 in /usr/local/lib/python3.9/site-packages (from matplotlib>=1.5->pymatgen!=2024.2.20,>=2022.3.7->mp-api) (6.1.0)\n",
      "Requirement already satisfied: Click in /usr/local/lib/python3.9/site-packages (from mongogrant>=0.3.1->maggma>=0.57.1->mp-api) (8.1.7)\n",
      "Requirement already satisfied: Flask>=1.0 in /usr/local/lib/python3.9/site-packages (from mongogrant>=0.3.1->maggma>=0.57.1->mp-api) (3.0.0)\n",
      "Requirement already satisfied: sentinels in /usr/local/lib/python3.9/site-packages (from mongomock>=3.10.0->maggma>=0.57.1->mp-api) (1.0.0)\n",
      "Requirement already satisfied: tenacity>=6.2.0 in /usr/local/lib/python3.9/site-packages (from plotly>=4.5.0->pymatgen!=2024.2.20,>=2022.3.7->mp-api) (8.2.3)\n",
      "Requirement already satisfied: PyYAML>=3.01 in /usr/local/lib64/python3.9/site-packages (from pybtex~=0.24->emmet-core>=0.78.0rc3->mp-api) (6.0.1)\n",
      "Requirement already satisfied: latexcodec>=1.0.4 in /usr/local/lib/python3.9/site-packages (from pybtex~=0.24->emmet-core>=0.78.0rc3->mp-api) (2.0.1)\n",
      "Requirement already satisfied: six in /usr/local/lib/python3.9/site-packages (from pybtex~=0.24->emmet-core>=0.78.0rc3->mp-api) (1.16.0)\n",
      "Requirement already satisfied: annotated-types>=0.4.0 in /usr/local/lib/python3.9/site-packages (from pydantic>=2.0->emmet-core>=0.78.0rc3->mp-api) (0.5.0)\n",
      "Requirement already satisfied: pydantic-core==2.10.1 in /usr/local/lib64/python3.9/site-packages (from pydantic>=2.0->emmet-core>=0.78.0rc3->mp-api) (2.10.1)\n",
      "Requirement already satisfied: python-dotenv>=0.21.0 in /usr/local/lib/python3.9/site-packages (from pydantic-settings>=2.0->emmet-core>=0.78.0rc3->mp-api) (1.0.0)\n",
      "Requirement already satisfied: ruamel.yaml.clib>=0.2.7 in /usr/local/lib64/python3.9/site-packages (from ruamel.yaml<0.18->maggma>=0.57.1->mp-api) (0.2.7)\n",
      "Requirement already satisfied: paramiko>=2.7.2 in /usr/local/lib/python3.9/site-packages (from sshtunnel>=0.1.5->maggma>=0.57.1->mp-api) (3.3.1)\n",
      "Requirement already satisfied: future in /usr/local/lib/python3.9/site-packages (from uncertainties>=3.1.4->pymatgen!=2024.2.20,>=2022.3.7->mp-api) (0.18.3)\n",
      "Requirement already satisfied: h11>=0.8 in /usr/local/lib/python3.9/site-packages (from uvicorn>=0.18.3->maggma>=0.57.1->mp-api) (0.14.0)\n",
      "Requirement already satisfied: pytz>=2020.1 in /usr/local/lib/python3.9/site-packages (from pandas->pymatgen!=2024.2.20,>=2022.3.7->mp-api) (2023.3.post1)\n",
      "Requirement already satisfied: tzdata>=2022.1 in /usr/local/lib/python3.9/site-packages (from pandas->pymatgen!=2024.2.20,>=2022.3.7->mp-api) (2023.3)\n",
      "Requirement already satisfied: mpmath>=0.19 in /usr/local/lib/python3.9/site-packages (from sympy->pymatgen!=2024.2.20,>=2022.3.7->mp-api) (1.3.0)\n",
      "Requirement already satisfied: sniffio>=1.1 in /usr/local/lib/python3.9/site-packages (from anyio<4.0.0,>=3.7.1->fastapi>=0.42.0->maggma>=0.57.1->mp-api) (1.3.0)\n",
      "Requirement already satisfied: exceptiongroup in /usr/local/lib/python3.9/site-packages (from anyio<4.0.0,>=3.7.1->fastapi>=0.42.0->maggma>=0.57.1->mp-api) (1.1.3)\n",
      "Requirement already satisfied: Werkzeug>=3.0.0 in /usr/local/lib/python3.9/site-packages (from Flask>=1.0->mongogrant>=0.3.1->maggma>=0.57.1->mp-api) (3.0.0)\n",
      "Requirement already satisfied: Jinja2>=3.1.2 in /usr/local/lib/python3.9/site-packages (from Flask>=1.0->mongogrant>=0.3.1->maggma>=0.57.1->mp-api) (3.1.2)\n",
      "Requirement already satisfied: itsdangerous>=2.1.2 in /usr/local/lib/python3.9/site-packages (from Flask>=1.0->mongogrant>=0.3.1->maggma>=0.57.1->mp-api) (2.1.2)\n",
      "Requirement already satisfied: blinker>=1.6.2 in /usr/local/lib/python3.9/site-packages (from Flask>=1.0->mongogrant>=0.3.1->maggma>=0.57.1->mp-api) (1.6.2)\n",
      "Requirement already satisfied: importlib-metadata>=3.6.0 in /usr/local/lib/python3.9/site-packages (from Flask>=1.0->mongogrant>=0.3.1->maggma>=0.57.1->mp-api) (6.8.0)\n",
      "Requirement already satisfied: zipp>=3.1.0 in /usr/local/lib/python3.9/site-packages (from importlib-resources>=3.2.0->matplotlib>=1.5->pymatgen!=2024.2.20,>=2022.3.7->mp-api) (3.17.0)\n",
      "Requirement already satisfied: bcrypt>=3.2 in /usr/local/lib64/python3.9/site-packages (from paramiko>=2.7.2->sshtunnel>=0.1.5->maggma>=0.57.1->mp-api) (4.0.1)\n",
      "Requirement already satisfied: cryptography>=3.3 in /usr/local/lib64/python3.9/site-packages (from paramiko>=2.7.2->sshtunnel>=0.1.5->maggma>=0.57.1->mp-api) (41.0.4)\n",
      "Requirement already satisfied: pynacl>=1.5 in /usr/local/lib64/python3.9/site-packages (from paramiko>=2.7.2->sshtunnel>=0.1.5->maggma>=0.57.1->mp-api) (1.5.0)\n",
      "Requirement already satisfied: cffi>=1.12 in /usr/local/lib64/python3.9/site-packages (from cryptography>=3.3->paramiko>=2.7.2->sshtunnel>=0.1.5->maggma>=0.57.1->mp-api) (1.16.0)\n",
      "Requirement already satisfied: MarkupSafe>=2.0 in /usr/local/lib64/python3.9/site-packages (from Jinja2>=3.1.2->Flask>=1.0->mongogrant>=0.3.1->maggma>=0.57.1->mp-api) (2.1.3)\n",
      "Requirement already satisfied: pycparser in /usr/local/lib/python3.9/site-packages (from cffi>=1.12->cryptography>=3.3->paramiko>=2.7.2->sshtunnel>=0.1.5->maggma>=0.57.1->mp-api) (2.21)\n",
      "Downloading mp_api-0.41.2-py3-none-any.whl (97 kB)\n",
      "\u001b[2K   \u001b[90m━━━━━━━━━━━━━━━━━━━━━━━━━━━━━━━━━━━━━━━━\u001b[0m \u001b[32m97.1/97.1 kB\u001b[0m \u001b[31m1.5 MB/s\u001b[0m eta \u001b[36m0:00:00\u001b[0ma \u001b[36m0:00:01\u001b[0m\n",
      "\u001b[?25hInstalling collected packages: mp-api\n",
      "  Attempting uninstall: mp-api\n",
      "    Found existing installation: mp-api 0.41.1\n",
      "    Uninstalling mp-api-0.41.1:\n",
      "      Successfully uninstalled mp-api-0.41.1\n",
      "Successfully installed mp-api-0.41.2\n",
      "\n",
      "\u001b[1m[\u001b[0m\u001b[34;49mnotice\u001b[0m\u001b[1;39;49m]\u001b[0m\u001b[39;49m A new release of pip is available: \u001b[0m\u001b[31;49m23.2.1\u001b[0m\u001b[39;49m -> \u001b[0m\u001b[32;49m24.0\u001b[0m\n",
      "\u001b[1m[\u001b[0m\u001b[34;49mnotice\u001b[0m\u001b[1;39;49m]\u001b[0m\u001b[39;49m To update, run: \u001b[0m\u001b[32;49mpython3.9 -m pip install --upgrade pip\u001b[0m\n"
     ]
    }
   ],
   "source": [
    "!pip install mp-api --upgrade\n",
    "import numpy as np\n",
    "from mp_api.client import MPRester\n",
    "#from pymatgen.ext.matproj import MPRester\n",
    "from pymatgen.core.operations import SymmOp\n",
    "from pymatgen.symmetry.analyzer import SpacegroupAnalyzer\n",
    "from pymatgen.electronic_structure.plotter import BSPlotter\n",
    "from pymatgen.phonon.plotter import PhononBSPlotter\n",
    "from jupyter_jsmol.pymatgen import quick_view\n",
    "from lmapr1492 import plot_brillouin_zone, get_plot_bs, get_plot_dos, get_plot_bs_and_dos, get_branch_wavevectors\n",
    "from plotly.subplots import make_subplots\n",
    "import plotly.graph_objects as go"
   ]
  },
  {
   "cell_type": "markdown",
   "id": "7a9d3df0",
   "metadata": {},
   "source": [
    "## télechargement des données "
   ]
  },
  {
   "cell_type": "code",
   "execution_count": 2,
   "id": "1d6d50f2",
   "metadata": {},
   "outputs": [],
   "source": [
    "mp_key = \"ER5V8i0JUw7k31Nk5IpkvogP61BDz9cw\"\n",
    "mp_id = \"mp-2894\""
   ]
  },
  {
   "cell_type": "code",
   "execution_count": 3,
   "id": "c1640555",
   "metadata": {},
   "outputs": [
    {
     "data": {
      "application/vnd.jupyter.widget-view+json": {
       "model_id": "c355eebdc8564ae591d3286b4b54572b",
       "version_major": 2,
       "version_minor": 0
      },
      "text/plain": [
       "Retrieving MaterialsDoc documents:   0%|          | 0/1 [00:00<?, ?it/s]"
      ]
     },
     "metadata": {},
     "output_type": "display_data"
    }
   ],
   "source": [
    "with MPRester(mp_key) as m:\n",
    "    prim_struc = m.get_structure_by_material_id(mp_id)\n",
    "    \n",
    "spacegroup_analyzer = SpacegroupAnalyzer(prim_struc)\n",
    "conv_struc = spacegroup_analyzer.get_conventional_standard_structure()\n",
    "\n"
   ]
  },
  {
   "cell_type": "code",
   "execution_count": 4,
   "id": "073e0c93",
   "metadata": {
    "scrolled": true
   },
   "outputs": [
    {
     "data": {
      "application/vnd.jupyter.widget-view+json": {
       "model_id": "8396552591d74bdba01080391c7ae5ff",
       "version_major": 2,
       "version_minor": 0
      },
      "text/plain": [
       "JsmolView(layout=Layout(align_self='stretch', height='400px'))"
      ]
     },
     "metadata": {},
     "output_type": "display_data"
    }
   ],
   "source": [
    "i_atom = 7\n",
    "i_symmop = 2\n",
    "\n",
    "view = quick_view(prim_struc, \"packed\", conventional = True)\n",
    "display(view)\n",
    "view.script('select antimony; color lightsalmon')\n",
    "view.script('select sodium; color gold')\n",
    "view.script('select lithium; color palegreen')\n",
    "view.script('draw SYMOP ' + str(i_symmop) + ' {atomno = ' + str(i_atom) + '}')"
   ]
  },
  {
   "cell_type": "markdown",
   "id": "e07574fc",
   "metadata": {},
   "source": [
    "# Delivrable\n",
    "- Déterminer les vecteurs de bases du réseaux direct \n",
    "- Déterminer les vecteurs de bases du réseaux réciproque\n",
    "- type de maille, son système cristallin\n",
    "- son groupe ponctuel.\n"
   ]
  },
  {
   "cell_type": "code",
   "execution_count": 9,
   "id": "2552e80c",
   "metadata": {},
   "outputs": [
    {
     "name": "stdout",
     "output_type": "stream",
     "text": [
      "################################################################################\n",
      "Réseaux direct \n",
      "\n",
      "a : 6.471973597179354\n",
      "b : 6.471973597179354\n",
      "c : 6.471973597179354\n",
      "Angle alpha : 90.0\n",
      "Angle beta : 90.0\n",
      "Angle gamma : 90.0\n",
      "----------\n",
      "################################################################################\n",
      "Réseaux reciproque \n",
      "\n",
      " a : 0.9708298732735796\n",
      " b : 0.9708298732735796\n",
      " c : 0.9708298732735796\n",
      "Angle alpha : 90.00000000000001\n",
      "Angle beta  : 90.00000000000001\n",
      "Angle gamma : 90.00000000000001\n",
      "################################################################################\n"
     ]
    }
   ],
   "source": [
    "# détermination des vecteurs de base et du réseau réciproque \n",
    "lattice = spacegroup_analyzer.get_lattice_type()\n",
    "parameters = conv_struc.lattice.parameters\n",
    "\n",
    "a, b, c, alpha, beta, gamma = parameters\n",
    "reciprocal_lattice = conv_struc.lattice.reciprocal_lattice\n",
    "\n",
    "a_r, b_r, c_r = reciprocal_lattice.abc\n",
    "alpha_r, beta_r, gamma_r = reciprocal_lattice.angles\n",
    "size = 80\n",
    "\n",
    "print(size*\"#\")\n",
    "print(\"Réseaux direct \\n\")\n",
    "print(\"a :\", a)\n",
    "print(\"b :\", b)\n",
    "print(\"c :\", c)\n",
    "print(\"Angle alpha :\", alpha)\n",
    "print(\"Angle beta :\", beta)\n",
    "print(\"Angle gamma :\", gamma)\n",
    "print(10*\"-\")\n",
    "print(size*\"#\")\n",
    "print(\"Réseaux reciproque \\n\")\n",
    "print(\" a :\", a_r)\n",
    "print(\" b :\", b_r)\n",
    "print(\" c :\", c_r)\n",
    "print(\"Angle alpha :\", alpha_r)\n",
    "print(\"Angle beta  :\", beta_r)\n",
    "print(\"Angle gamma :\", gamma_r)\n",
    "print(size*\"#\")\n"
   ]
  },
  {
   "cell_type": "code",
   "execution_count": 6,
   "id": "bc36d10c",
   "metadata": {},
   "outputs": [
    {
     "name": "stdout",
     "output_type": "stream",
     "text": [
      "[[ 1.58535868e+00 -5.60508591e-01  0.00000000e+00]\n",
      " [ 4.24278886e-09  1.68152664e+00  0.00000000e+00]\n",
      " [-7.92679341e-01 -5.60509024e-01  1.37296067e+00]]\n"
     ]
    }
   ],
   "source": [
    "#la matrice associé au vecteur des réseaux réciproques\n",
    "reciprocal_lattice_vectors = prim_struc.lattice.reciprocal_lattice.matrix\n",
    "print(reciprocal_lattice_vectors)"
   ]
  },
  {
   "cell_type": "code",
   "execution_count": 15,
   "id": "72c4fb7d",
   "metadata": {},
   "outputs": [
    {
     "name": "stdout",
     "output_type": "stream",
     "text": [
      "Type de maille : cubic\n"
     ]
    }
   ],
   "source": [
    "# LE TYPE DE MAILLE\n",
    "print(\"Type de maille :\", SpacegroupAnalyzer(prim_struc).get_lattice_type())"
   ]
  },
  {
   "cell_type": "code",
   "execution_count": 16,
   "id": "9c7c99aa",
   "metadata": {
    "scrolled": true
   },
   "outputs": [
    {
     "name": "stdout",
     "output_type": "stream",
     "text": [
      "Système cristallin : cubic\n"
     ]
    }
   ],
   "source": [
    "print(\"Système cristallin :\", spacegroup_analyzer.get_crystal_system())"
   ]
  },
  {
   "cell_type": "code",
   "execution_count": 17,
   "id": "b74606a6",
   "metadata": {},
   "outputs": [
    {
     "name": "stdout",
     "output_type": "stream",
     "text": [
      "groupe ponctuel : -43m\n"
     ]
    }
   ],
   "source": [
    "print(\"groupe ponctuel :\" ,spacegroup_analyzer.get_point_group_symbol())\n"
   ]
  },
  {
   "cell_type": "code",
   "execution_count": null,
   "id": "49d21ade",
   "metadata": {},
   "outputs": [],
   "source": []
  }
 ],
 "metadata": {
  "kernelspec": {
   "display_name": "Python 3 (ipykernel)",
   "language": "python",
   "name": "python3"
  },
  "language_info": {
   "codemirror_mode": {
    "name": "ipython",
    "version": 3
   },
   "file_extension": ".py",
   "mimetype": "text/x-python",
   "name": "python",
   "nbconvert_exporter": "python",
   "pygments_lexer": "ipython3",
   "version": "3.9.13"
  }
 },
 "nbformat": 4,
 "nbformat_minor": 5
}
