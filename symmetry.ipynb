{
 "cells": [
  {
   "cell_type": "markdown",
   "id": "193a2454",
   "metadata": {},
   "source": [
    "# tâche 5 \n",
    "- François Clinquart \n",
    "- Noma = `59602100`"
   ]
  },
  {
   "cell_type": "markdown",
   "id": "3328b581",
   "metadata": {},
   "source": [
    "## Importation des Modules et packages nécéssaires "
   ]
  },
  {
   "cell_type": "code",
   "execution_count": 1,
   "id": "2dd1237a",
   "metadata": {},
   "outputs": [],
   "source": [
    "import numpy as np\n",
    "from mp_api.client import MPRester\n",
    "from pymatgen.core.operations import SymmOp\n",
    "from pymatgen.symmetry.analyzer import SpacegroupAnalyzer\n",
    "from pymatgen.electronic_structure.plotter import BSPlotter\n",
    "from pymatgen.phonon.plotter import PhononBSPlotter\n",
    "from jupyter_jsmol.pymatgen import quick_view\n",
    "from lmapr1492 import plot_brillouin_zone, get_plot_bs, get_plot_dos, get_plot_bs_and_dos, get_branch_wavevectors\n",
    "from plotly.subplots import make_subplots\n",
    "import plotly.graph_objects as go\n",
    "## IMPORTATION IMPORTANTE\n",
    "from pymatgen.analysis.diffraction.xrd import XRDCalculator\n",
    "\n",
    "## Aujout pas utiles\n",
    "import matplotlib.pyplot as plt\n",
    "from mpl_toolkits.mplot3d import Axes3D\n"
   ]
  },
  {
   "cell_type": "markdown",
   "id": "21c70564",
   "metadata": {},
   "source": [
    "# Mon Matériaux \n",
    "Il s'agit d'un Cristal cubique de groupe ponctuel : -43m\n",
    "\n"
   ]
  },
  {
   "cell_type": "code",
   "execution_count": 2,
   "id": "fe2cfd2a",
   "metadata": {},
   "outputs": [],
   "source": [
    "mp_key = \"ER5V8i0JUw7k31Nk5IpkvogP61BDz9cw\"\n",
    "mp_id = \"mp-2894\" #ScSnAu"
   ]
  },
  {
   "cell_type": "code",
   "execution_count": 3,
   "id": "f80a4b51",
   "metadata": {},
   "outputs": [
    {
     "data": {
      "application/vnd.jupyter.widget-view+json": {
       "model_id": "b1a16f91906e43d9a98a0451dd76043e",
       "version_major": 2,
       "version_minor": 0
      },
      "text/plain": [
       "Retrieving MaterialsDoc documents:   0%|          | 0/1 [00:00<?, ?it/s]"
      ]
     },
     "metadata": {},
     "output_type": "display_data"
    }
   ],
   "source": [
    "with MPRester(mp_key) as m:\n",
    "    prim_struc = m.get_structure_by_material_id(mp_id)\n",
    "    \n",
    "spacegroup_analyzer = SpacegroupAnalyzer(prim_struc)\n",
    "conv_struc = spacegroup_analyzer.get_conventional_standard_structure()"
   ]
  },
  {
   "cell_type": "code",
   "execution_count": 8,
   "id": "0e59111f",
   "metadata": {},
   "outputs": [
    {
     "data": {
      "application/vnd.jupyter.widget-view+json": {
       "model_id": "b4b6e6392f544940b566a4af9c9c0e7f",
       "version_major": 2,
       "version_minor": 0
      },
      "text/plain": [
       "JsmolView(layout=Layout(align_self='stretch', height='400px'))"
      ]
     },
     "metadata": {},
     "output_type": "display_data"
    }
   ],
   "source": [
    "# Crée une vue rapide de la structure avec la maille conventionnelle\n",
    "view = quick_view(prim_struc, \"packed\", conventional=True)\n",
    "display(view)\n",
    "\n",
    "# Applique les couleurs aux différents types d'atomes\n",
    "view.script('select Sc; color lightsalmon')\n",
    "view.script('select Sn; color gold')\n",
    "view.script('select Au; color palegreen')\n",
    "\n",
    "\n"
   ]
  },
  {
   "cell_type": "markdown",
   "id": "178bdd61",
   "metadata": {},
   "source": [
    "# Delivrable\n",
    "pour étudier l’effet de 3 éléments de symétrie différents (pas l’identité) chacun pour 1 atome différent "
   ]
  },
  {
   "cell_type": "code",
   "execution_count": 32,
   "id": "f763819d",
   "metadata": {},
   "outputs": [
    {
     "name": "stdout",
     "output_type": "stream",
     "text": [
      "Rot:\n",
      "[[0. 0. 1.]\n",
      " [0. 1. 0.]\n",
      " [1. 0. 0.]]\n",
      "tau\n",
      "[0. 0. 0.]\n",
      "Rot:\n",
      "[[0. 0. 1.]\n",
      " [0. 1. 0.]\n",
      " [1. 0. 0.]]\n",
      "tau\n",
      "[0. 0. 0.]\n",
      "Rot:\n",
      "[[-1. -1. -1.]\n",
      " [ 0.  0.  1.]\n",
      " [ 0.  1.  0.]]\n",
      "tau\n",
      "[0. 0. 0.]\n",
      "Rot:\n",
      "[[-1. -1. -1.]\n",
      " [ 0.  0.  1.]\n",
      " [ 0.  1.  0.]]\n",
      "tau\n",
      "[0. 0. 0.]\n",
      "Rot:\n",
      "[[ 1.  0.  0.]\n",
      " [-1. -1. -1.]\n",
      " [ 0.  0.  1.]]\n",
      "tau\n",
      "[0. 0. 0.]\n",
      "Rot:\n",
      "[[ 1.  0.  0.]\n",
      " [-1. -1. -1.]\n",
      " [ 0.  0.  1.]]\n",
      "tau\n",
      "[0. 0. 0.]\n",
      "Rot:\n",
      "[[0. 0. 1.]\n",
      " [1. 0. 0.]\n",
      " [0. 1. 0.]]\n",
      "tau\n",
      "[0. 0. 0.]\n",
      "Rot:\n",
      "[[0. 0. 1.]\n",
      " [1. 0. 0.]\n",
      " [0. 1. 0.]]\n",
      "tau\n",
      "[0. 0. 0.]\n",
      "Rot:\n",
      "[[-1. -1. -1.]\n",
      " [ 0.  1.  0.]\n",
      " [ 0.  0.  1.]]\n",
      "tau\n",
      "[0. 0. 0.]\n",
      "Rot:\n",
      "[[-1. -1. -1.]\n",
      " [ 0.  1.  0.]\n",
      " [ 0.  0.  1.]]\n",
      "tau\n",
      "[0. 0. 0.]\n"
     ]
    }
   ],
   "source": [
    "sym = spacegroup_analyzer.get_symmetry_operations()  \n",
    "#une liste contenant les 48 opérateurs de symmétrie (Matrice Orthogonale)\n",
    "#print(len(sym)) 48 opération \n",
    "\n",
    "\n",
    "s1 = sym[26]\n",
    "s2 = sym[29] \n",
    "\n",
    "\n",
    "\n",
    "#Structure Finale dans la maille conventionnelle \n",
    "#Source: the materials project, je choisi des atomes en rergardant la figure du haut \n",
    "\n",
    "Sc : list = [0,0,1/2]\n",
    "Sn : list = [1/2,0,1/2]\n",
    "Au : list = [1/4,1/4,1/4]\n",
    "### Affichage des opérateurs afin des choisir un opérateur interresant    \n",
    "for i in range(10,20):\n",
    "    print(sym[i])"
   ]
  },
  {
   "cell_type": "markdown",
   "id": "75d72e26",
   "metadata": {},
   "source": [
    "### Opération de Symmétrie pour le Scandium "
   ]
  },
  {
   "cell_type": "code",
   "execution_count": 38,
   "id": "dd35af5e",
   "metadata": {},
   "outputs": [
    {
     "name": "stdout",
     "output_type": "stream",
     "text": [
      "----------------------------------------------------------------------\n",
      "la matrice associé à l'opération de symmétrie est \n",
      "\n",
      "Rot:\n",
      "[[1. 0. 0.]\n",
      " [0. 0. 1.]\n",
      " [0. 1. 0.]]\n",
      "tau\n",
      "[0. 0. 0.]\n",
      "\n",
      " Il s'agit d'une opération d'ordre un consevant la chiralité\n",
      "\n",
      " Il s'agit d'une opération de :  Rotation d'ordre 2 autour de l'atome d'or (1/4, 1/4, 1/4) parallèle à l'axe c \n",
      "\n",
      " le déterminant de la matrice vaut 1\n",
      "______________________________________________________________________\n",
      "coordonné de l'atome de Scandium avant l'opération : [0, 0, 0.5]\n",
      "coordonné de l'atome de Scandium après l'opération : [0.5, 0.5, 0.5]\n",
      "______________________________________________________________________\n",
      "----------------------------------------------------------------------\n"
     ]
    }
   ],
   "source": [
    "s1_type : str = \" Rotation d'ordre 2 autour de l'atome d'or (1/4, 1/4, 1/4) parallèle à l'axe c \"\n",
    "print(70*'-')\n",
    "print(\"la matrice associé à l'opération de symmétrie est \\n\" )\n",
    "print(s1)\n",
    "print(\"\\n Il s'agit d'une opération d'ordre un consevant la chiralité\")\n",
    "print(\"\\n Il s'agit d'une opération de :\", s1_type)\n",
    "print(\"\\n le déterminant de la matrice vaut 1\")\n",
    "print(70*'_')\n",
    "print(\"coordonné de l'atome de {} avant l'opération : {}\".format('Scandium',str(Sc)))\n",
    "print(\"coordonné de l'atome de {} après l'opération : {}\".format('Scandium',str([0.5,0.5,0.5])))\n",
    "print(70*'_')\n",
    "print(70*'-')\n",
    "\n"
   ]
  },
  {
   "cell_type": "code",
   "execution_count": 17,
   "id": "53cdb5ca",
   "metadata": {},
   "outputs": [
    {
     "data": {
      "application/vnd.jupyter.widget-view+json": {
       "model_id": "1b7b656b53f545d193bfb8d3656e39b8",
       "version_major": 2,
       "version_minor": 0
      },
      "text/plain": [
       "JsmolView(layout=Layout(align_self='stretch', height='400px'))"
      ]
     },
     "metadata": {},
     "output_type": "display_data"
    }
   ],
   "source": [
    "view1 = quick_view(conv_struc, conventional = \"True\")\n",
    "display(view1)\n",
    "view1.script(\"draw SYMOP 27 {atomno=1}\")\n",
    "\n",
    "\n",
    "\n"
   ]
  },
  {
   "cell_type": "markdown",
   "id": "55b27f76",
   "metadata": {},
   "source": [
    "### Opération de symmétrie pour l'étain"
   ]
  },
  {
   "cell_type": "code",
   "execution_count": 36,
   "id": "fc6bec9f",
   "metadata": {},
   "outputs": [
    {
     "name": "stdout",
     "output_type": "stream",
     "text": [
      "----------------------------------------------------------------------\n",
      "la matrice associé à l'opération de symmétrie est \n",
      "\n",
      "Rot:\n",
      "[[ 0.  1.  0.]\n",
      " [-1. -1. -1.]\n",
      " [ 0.  0.  1.]]\n",
      "tau\n",
      "[0. 0. 0.]\n",
      "\n",
      " Il s'agit d'une opération d'ordre un\n",
      "\n",
      " le déterminant vaut -1\n",
      "\n",
      " Il s'agit d'une opération de : plan mirroir xy\n",
      "______________________________________________________________________\n",
      "coordonné de l'atome de étain avant l'opération : [0.5, 0, 0.5]\n",
      "coordonné de l'atome de étain après l'opération : [0, 0.5, 0.5]\n",
      "______________________________________________________________________\n",
      "----------------------------------------------------------------------\n"
     ]
    }
   ],
   "source": [
    "s2_type : str = \"plan mirroir xy\"\n",
    "print(70*'-')\n",
    "print(\"la matrice associé à l'opération de symmétrie est \\n\" )\n",
    "print(s2)\n",
    "print(\"\\n Il s'agit d'une opération d'ordre un\")\n",
    "print(\"\\n le déterminant vaut -1\") # donc on a le choix entre roto-inversion, inversion et reflexion. \n",
    "print(\"\\n Il s'agit d'une opération de :\", s2_type)\n",
    "print(70*'_')\n",
    "print(\"coordonné de l'atome de {} avant l'opération : {}\".format('étain',str(Sn)))\n",
    "print(\"coordonné de l'atome de {} après l'opération : {}\".format('étain',str([0,0.5,0.5])))\n",
    "# je ne comprend ce que fait s2.operate(Sn) elle n'applique pas la bonne opération \n",
    "print(70*'_')\n",
    "print(70*'-')"
   ]
  },
  {
   "cell_type": "code",
   "execution_count": 34,
   "id": "386a750d",
   "metadata": {},
   "outputs": [
    {
     "data": {
      "application/vnd.jupyter.widget-view+json": {
       "model_id": "9161eecf1c34463a8ee9b521fc95780a",
       "version_major": 2,
       "version_minor": 0
      },
      "text/plain": [
       "JsmolView(layout=Layout(align_self='stretch', height='400px'))"
      ]
     },
     "metadata": {},
     "output_type": "display_data"
    }
   ],
   "source": [
    "view1 = quick_view(conv_struc, conventional = \"True\")\n",
    "display(view1)\n",
    "view1.script(\"draw SYMOP 30 {atomno=24}\") ## + 1 dans le display car liste \n"
   ]
  },
  {
   "cell_type": "markdown",
   "id": "ea777ee2",
   "metadata": {},
   "source": [
    "### Opération de symmétrie pour l' Or "
   ]
  },
  {
   "cell_type": "code",
   "execution_count": 44,
   "id": "0880d885",
   "metadata": {},
   "outputs": [
    {
     "name": "stdout",
     "output_type": "stream",
     "text": [
      "----------------------------------------------------------------------\n",
      "\n",
      " Il s'agit d'une opération d'ordre deux inversant la chiralité\n",
      "\n",
      " Il s'agit d'une opération de : Opération de rotation hélicoïdale d'ordre 4 autour de l'axe (0,1/2,0) d' (angle \\pi/2) donc rotation d'odre 4 suivi d'une translation suivant l'axe c )\n",
      "______________________________________________________________________\n",
      "coordonné de l'atome de Cesium avant l'opération : [0.25, 0.25, 0.25]\n",
      "coordonné de l'atome de Cesium avant l'opération : [0.75, 0.25, 0.75]\n",
      "______________________________________________________________________\n",
      "----------------------------------------------------------------------\n"
     ]
    }
   ],
   "source": [
    "s4_type : str = \"Opération de rotation hélicoïdale d'ordre 4 autour de l'axe (0,1/2,0) d' (angle \\pi/2) donc rotation d'odre 4 suivi d'une translation suivant l'axe c )\"\n",
    "print(70*'-')\n",
    "print(\"\\n Il s'agit d'une opération d'ordre deux inversant la chiralité\")\n",
    "print(\"\\n Il s'agit d'une opération de :\", s4_type)\n",
    "print(70*'_')\n",
    "print(\"coordonné de l'atome de {} avant l'opération : {}\".format('Cesium',str(Au)))\n",
    "print(\"coordonné de l'atome de {} avant l'opération : {}\".format('Cesium',str([3/4,1/4,3/4])))\n",
    "print(70*'_')\n",
    "print(70*'-')"
   ]
  },
  {
   "cell_type": "code",
   "execution_count": 50,
   "id": "16e47deb",
   "metadata": {},
   "outputs": [
    {
     "data": {
      "application/vnd.jupyter.widget-view+json": {
       "model_id": "a28d2262d2664b0890cd6407827e1400",
       "version_major": 2,
       "version_minor": 0
      },
      "text/plain": [
       "JsmolView(layout=Layout(align_self='stretch', height='400px'))"
      ]
     },
     "metadata": {},
     "output_type": "display_data"
    }
   ],
   "source": [
    "view1 = quick_view(conv_struc, conventional = \"True\")\n",
    "display(view1)\n",
    "view1.script(\"draw SYMOP 48 {atomno=3}\")\n"
   ]
  },
  {
   "cell_type": "markdown",
   "id": "0ef74fb2",
   "metadata": {},
   "source": [
    "Rotation hélicoïdale par rapport à un axe hélicoïdal: $4_2$ car rotation de 90° dans le sens anti-horlogique suivi d'une translation de valeur 3/4 du vecteur de base.  "
   ]
  },
  {
   "cell_type": "code",
   "execution_count": null,
   "id": "68b3d083",
   "metadata": {},
   "outputs": [],
   "source": []
  }
 ],
 "metadata": {
  "kernelspec": {
   "display_name": "Python 3 (ipykernel)",
   "language": "python",
   "name": "python3"
  },
  "language_info": {
   "codemirror_mode": {
    "name": "ipython",
    "version": 3
   },
   "file_extension": ".py",
   "mimetype": "text/x-python",
   "name": "python",
   "nbconvert_exporter": "python",
   "pygments_lexer": "ipython3",
   "version": "3.9.13"
  }
 },
 "nbformat": 4,
 "nbformat_minor": 5
}
