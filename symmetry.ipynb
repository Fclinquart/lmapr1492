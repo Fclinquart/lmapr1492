{
 "cells": [
  {
   "cell_type": "markdown",
   "id": "193a2454",
   "metadata": {},
   "source": [
    "# tâche 5 \n",
    "- François Clinquart \n",
    "- Noma = `59602100`"
   ]
  },
  {
   "cell_type": "markdown",
   "id": "3328b581",
   "metadata": {},
   "source": [
    "## Importation des Modules et packages nécéssaires "
   ]
  },
  {
   "cell_type": "code",
   "execution_count": 113,
   "id": "2dd1237a",
   "metadata": {},
   "outputs": [],
   "source": [
    "import numpy as np\n",
    "from mp_api.client import MPRester\n",
    "from pymatgen.core.operations import SymmOp\n",
    "from pymatgen.symmetry.analyzer import SpacegroupAnalyzer\n",
    "from pymatgen.electronic_structure.plotter import BSPlotter\n",
    "from pymatgen.phonon.plotter import PhononBSPlotter\n",
    "from jupyter_jsmol.pymatgen import quick_view\n",
    "from lmapr1492 import plot_brillouin_zone, get_plot_bs, get_plot_dos, get_plot_bs_and_dos, get_branch_wavevectors\n",
    "from plotly.subplots import make_subplots\n",
    "import plotly.graph_objects as go\n",
    "\n",
    "## Aujout pas utiles\n",
    "import matplotlib.pyplot as plt\n",
    "from mpl_toolkits.mplot3d import Axes3D\n"
   ]
  },
  {
   "cell_type": "markdown",
   "id": "21c70564",
   "metadata": {},
   "source": [
    "# Mon Matériaux \n",
    "Il s'agit d'un Cristal cubique de groupe ponctuel : -43m\n",
    "\n"
   ]
  },
  {
   "cell_type": "code",
   "execution_count": 114,
   "id": "fe2cfd2a",
   "metadata": {},
   "outputs": [],
   "source": [
    "mp_key = \"ER5V8i0JUw7k31Nk5IpkvogP61BDz9cw\"\n",
    "mp_id = \"mp-2894\" #ScSnAu"
   ]
  },
  {
   "cell_type": "code",
   "execution_count": 115,
   "id": "f80a4b51",
   "metadata": {},
   "outputs": [
    {
     "data": {
      "application/vnd.jupyter.widget-view+json": {
       "model_id": "e930b51b75a54e4baed0ca4c58624176",
       "version_major": 2,
       "version_minor": 0
      },
      "text/plain": [
       "Retrieving MaterialsDoc documents:   0%|          | 0/1 [00:00<?, ?it/s]"
      ]
     },
     "metadata": {},
     "output_type": "display_data"
    }
   ],
   "source": [
    "with MPRester(mp_key) as m:\n",
    "    prim_struc = m.get_structure_by_material_id(mp_id)\n",
    "    \n",
    "spacegroup_analyzer = SpacegroupAnalyzer(prim_struc)\n",
    "conv_struc = spacegroup_analyzer.get_conventional_standard_structure()"
   ]
  },
  {
   "cell_type": "code",
   "execution_count": 116,
   "id": "0e59111f",
   "metadata": {},
   "outputs": [
    {
     "data": {
      "application/vnd.jupyter.widget-view+json": {
       "model_id": "273b022772a742a995109d8e3c4880de",
       "version_major": 2,
       "version_minor": 0
      },
      "text/plain": [
       "JsmolView(layout=Layout(align_self='stretch', height='400px'))"
      ]
     },
     "metadata": {},
     "output_type": "display_data"
    }
   ],
   "source": [
    "# Crée une vue rapide de la structure avec la maille conventionnelle\n",
    "view = quick_view(prim_struc, \"packed\", conventional=True)\n",
    "display(view)\n",
    "\n",
    "# Applique les couleurs aux différents types d'atomes\n",
    "view.script('select Sc; color lightsalmon')\n",
    "view.script('select Sn; color gold')\n",
    "view.script('select Au; color palegreen')\n",
    "\n",
    "# Dessine l'opération de symétrie\n",
    "view.script('draw SYMOP ' + str(i_symmop) + ' {atomno = ' + str(i_atom) + '}')\n"
   ]
  },
  {
   "cell_type": "markdown",
   "id": "178bdd61",
   "metadata": {},
   "source": [
    "# Delivrable\n",
    "pour étudier l’effet de 3 éléments de symétrie différents (pas l’identité) chacun pour 1 atome différent "
   ]
  },
  {
   "cell_type": "code",
   "execution_count": 144,
   "id": "f763819d",
   "metadata": {},
   "outputs": [
    {
     "name": "stdout",
     "output_type": "stream",
     "text": [
      "Rot:\n",
      "[[0. 0. 1.]\n",
      " [0. 1. 0.]\n",
      " [1. 0. 0.]]\n",
      "tau\n",
      "[0. 0. 0.]\n",
      "-------------\n",
      "Rot:\n",
      "[[0. 0. 1.]\n",
      " [0. 1. 0.]\n",
      " [1. 0. 0.]]\n",
      "tau\n",
      "[0. 0. 0.]\n",
      "Rot:\n",
      "[[0. 0. 1.]\n",
      " [0. 1. 0.]\n",
      " [1. 0. 0.]]\n",
      "tau\n",
      "[0. 0. 0.]\n",
      "Rot:\n",
      "[[-1. -1. -1.]\n",
      " [ 0.  0.  1.]\n",
      " [ 0.  1.  0.]]\n",
      "tau\n",
      "[0. 0. 0.]\n",
      "Rot:\n",
      "[[-1. -1. -1.]\n",
      " [ 0.  0.  1.]\n",
      " [ 0.  1.  0.]]\n",
      "tau\n",
      "[0. 0. 0.]\n",
      "Rot:\n",
      "[[ 1.  0.  0.]\n",
      " [-1. -1. -1.]\n",
      " [ 0.  0.  1.]]\n",
      "tau\n",
      "[0. 0. 0.]\n",
      "Rot:\n",
      "[[ 1.  0.  0.]\n",
      " [-1. -1. -1.]\n",
      " [ 0.  0.  1.]]\n",
      "tau\n",
      "[0. 0. 0.]\n",
      "Rot:\n",
      "[[0. 0. 1.]\n",
      " [1. 0. 0.]\n",
      " [0. 1. 0.]]\n",
      "tau\n",
      "[0. 0. 0.]\n",
      "Rot:\n",
      "[[0. 0. 1.]\n",
      " [1. 0. 0.]\n",
      " [0. 1. 0.]]\n",
      "tau\n",
      "[0. 0. 0.]\n",
      "Rot:\n",
      "[[-1. -1. -1.]\n",
      " [ 0.  1.  0.]\n",
      " [ 0.  0.  1.]]\n",
      "tau\n",
      "[0. 0. 0.]\n",
      "Rot:\n",
      "[[-1. -1. -1.]\n",
      " [ 0.  1.  0.]\n",
      " [ 0.  0.  1.]]\n",
      "tau\n",
      "[0. 0. 0.]\n"
     ]
    }
   ],
   "source": [
    "sym = spacegroup_analyzer.get_symmetry_operations()\n",
    "#print(len(sym)) 48 opération \n",
    "\n",
    "\n",
    "s1 = sym[26]\n",
    "s2 = sym[29] \n",
    "\n",
    "\n",
    "\n",
    "#Structure Finale dans la maille conventionnelle \n",
    "#Source: the materials project, je choisi des atomes en rergardant la figure du haut \n",
    "\n",
    "Sc : list = [0,0,1/2]\n",
    "Sn : list = [1/2,0,1/2]\n",
    "Au : list = [1/4,1/4,1/4]\n",
    "### Affichage des opérateurs    \n",
    "for i in range(10,20):\n",
    "    print(sym[i])"
   ]
  },
  {
   "cell_type": "markdown",
   "id": "75d72e26",
   "metadata": {},
   "source": [
    "### Opération de Symmétrie pour le Scandium "
   ]
  },
  {
   "cell_type": "code",
   "execution_count": 126,
   "id": "dd35af5e",
   "metadata": {},
   "outputs": [
    {
     "name": "stdout",
     "output_type": "stream",
     "text": [
      "----------------------------------------------------------------------\n",
      "la matrice associé à l'opération de symmétrie est \n",
      "\n",
      "Rot:\n",
      "[[1. 0. 0.]\n",
      " [0. 0. 1.]\n",
      " [0. 1. 0.]]\n",
      "tau\n",
      "[0. 0. 0.]\n",
      "\n",
      " Il s'agit d'une opération d'ordre un consevant la chiralité\n",
      "\n",
      " Il s'agit d'une opération de :  Rotation autour de l'atome d'or (1/4, 1/4, 1/4) parallèle à l'axe c \n",
      "\n",
      " le déterminant de la matrice vaut 1\n",
      "______________________________________________________________________\n",
      "coordonné de l'atome de Cesium avant l'opération : [0, 0, 0.5]\n",
      "coordonné de l'atome de Cesium après l'opération : [0.  0.5 0. ]\n",
      "______________________________________________________________________\n",
      "----------------------------------------------------------------------\n"
     ]
    }
   ],
   "source": [
    "s1_type : str = \" Rotation autour de l'atome d'or (1/4, 1/4, 1/4) parallèle à l'axe c \"\n",
    "print(70*'-')\n",
    "print(\"la matrice associé à l'opération de symmétrie est \\n\" )\n",
    "print(s1)\n",
    "print(\"\\n Il s'agit d'une opération d'ordre un consevant la chiralité\")\n",
    "print(\"\\n Il s'agit d'une opération de :\", s1_type)\n",
    "print(\"\\n le déterminant de la matrice vaut 1\")\n",
    "print(70*'_')\n",
    "print(\"coordonné de l'atome de {} avant l'opération : {}\".format('Cesium',str(Sc)))\n",
    "print(\"coordonné de l'atome de {} après l'opération : {}\".format('Cesium',str(s1.operate(Sc))))\n",
    "print(70*'_')\n",
    "print(70*'-')\n",
    "\n"
   ]
  },
  {
   "cell_type": "code",
   "execution_count": 119,
   "id": "53cdb5ca",
   "metadata": {},
   "outputs": [
    {
     "data": {
      "application/vnd.jupyter.widget-view+json": {
       "model_id": "ae8e2b0f35a645b984273d2671d75e5b",
       "version_major": 2,
       "version_minor": 0
      },
      "text/plain": [
       "JsmolView(layout=Layout(align_self='stretch', height='400px'))"
      ]
     },
     "metadata": {},
     "output_type": "display_data"
    }
   ],
   "source": [
    "view1 = quick_view(conv_struc, conventional = \"True\")\n",
    "display(view1)\n",
    "view1.script(\"draw SYMOP 27 {atomno=1}\")\n",
    "\n",
    "\n",
    "\n"
   ]
  },
  {
   "cell_type": "markdown",
   "id": "55b27f76",
   "metadata": {},
   "source": [
    "### Opération de symmétrie pour l'étain"
   ]
  },
  {
   "cell_type": "code",
   "execution_count": 120,
   "id": "fc6bec9f",
   "metadata": {},
   "outputs": [
    {
     "name": "stdout",
     "output_type": "stream",
     "text": [
      "----------------------------------------------------------------------\n",
      "la matrice associé à l'opération de symmétrie est \n",
      "\n",
      "Rot:\n",
      "[[ 0.  1.  0.]\n",
      " [-1. -1. -1.]\n",
      " [ 0.  0.  1.]]\n",
      "tau\n",
      "[0. 0. 0.]\n",
      "\n",
      " Il s'agit d'une opération d'ordre un\n",
      "\n",
      " le déterminant vaut -1\n",
      "\n",
      " Il s'agit d'une opération de : plan mirroir xy\n",
      "______________________________________________________________________\n",
      "coordonné de l'atome de étain avant l'opération : [0.5, 0.5, 0]\n",
      "coordonné de l'atome de étain après l'opération : [ 0.5 -1.   0. ]\n",
      "______________________________________________________________________\n",
      "----------------------------------------------------------------------\n"
     ]
    }
   ],
   "source": [
    "s2_type : str = \"plan mirroir xy\"\n",
    "print(70*'-')\n",
    "print(\"la matrice associé à l'opération de symmétrie est \\n\" )\n",
    "print(s2)\n",
    "print(\"\\n Il s'agit d'une opération d'ordre un\")\n",
    "print(\"\\n le déterminant vaut -1\")\n",
    "print(\"\\n Il s'agit d'une opération de :\", s2_type)\n",
    "print(70*'_')\n",
    "print(\"coordonné de l'atome de {} avant l'opération : {}\".format('étain',str(Sn)))\n",
    "print(\"coordonné de l'atome de {} après l'opération : {}\".format('étain',str(s2.operate(Sn))))\n",
    "print(70*'_')\n",
    "print(70*'-')"
   ]
  },
  {
   "cell_type": "code",
   "execution_count": 124,
   "id": "386a750d",
   "metadata": {},
   "outputs": [
    {
     "data": {
      "application/vnd.jupyter.widget-view+json": {
       "model_id": "752f0d7f83b74f9bb170337d423921f6",
       "version_major": 2,
       "version_minor": 0
      },
      "text/plain": [
       "JsmolView(layout=Layout(align_self='stretch', height='400px'))"
      ]
     },
     "metadata": {},
     "output_type": "display_data"
    }
   ],
   "source": [
    "view1 = quick_view(conv_struc, conventional = \"True\")\n",
    "display(view1)\n",
    "view1.script(\"draw SYMOP 30 {atomno=2}\") ## + 1 dans le display car liste \n"
   ]
  },
  {
   "cell_type": "markdown",
   "id": "ea777ee2",
   "metadata": {},
   "source": [
    "### Opération de symmétrie pour l' Or "
   ]
  },
  {
   "cell_type": "code",
   "execution_count": 149,
   "id": "0880d885",
   "metadata": {},
   "outputs": [
    {
     "name": "stdout",
     "output_type": "stream",
     "text": [
      "----------------------------------------------------------------------\n",
      "la matrice associé à l'opération de symmétrie est \n",
      "\n",
      "Rot:\n",
      "[[0. 1. 0.]\n",
      " [1. 0. 0.]\n",
      " [0. 0. 1.]]\n",
      "tau\n",
      "[0. 0. 0.]\n",
      "\n",
      " Il s'agit d'une opération d'ordre deux inversant la chiralité\n",
      "\n",
      " Il s'agit d'une opération de : Opération de Roto-inversion (----)\n",
      "\n",
      " le déterminant de la matrice vaut 0\n",
      "/!\\ pas sur de celle-ci\n",
      "______________________________________________________________________\n",
      "coordonné de l'atome de Cesium avant l'opération : [0.25, 0.25, 0.25]\n",
      "coordonné de l'atome de Cesium avant l'opération : [0.25 0.25 0.25]\n",
      "______________________________________________________________________\n",
      "----------------------------------------------------------------------\n"
     ]
    }
   ],
   "source": [
    "s4_type : str = 'Opération de Roto-inversion (----)'\n",
    "print(70*'-')\n",
    "print(\"la matrice associé à l'opération de symmétrie est \\n\" )\n",
    "print(sym[43])\n",
    "print(\"\\n Il s'agit d'une opération d'ordre deux inversant la chiralité\")\n",
    "print(\"\\n Il s'agit d'une opération de :\", s4_type)\n",
    "print(\"\\n le déterminant de la matrice vaut 0\")\n",
    "print(\"/!\\ pas sur de celle-ci\")\n",
    "print(70*'_')\n",
    "print(\"coordonné de l'atome de {} avant l'opération : {}\".format('Cesium',str(Au)))\n",
    "print(\"coordonné de l'atome de {} avant l'opération : {}\".format('Cesium',str(sym[43].operate(Au))))\n",
    "print(70*'_')\n",
    "print(70*'-')"
   ]
  },
  {
   "cell_type": "code",
   "execution_count": 148,
   "id": "16e47deb",
   "metadata": {},
   "outputs": [
    {
     "data": {
      "application/vnd.jupyter.widget-view+json": {
       "model_id": "9240ec50a8994f1eafc6419c05878af4",
       "version_major": 2,
       "version_minor": 0
      },
      "text/plain": [
       "JsmolView(layout=Layout(align_self='stretch', height='400px'))"
      ]
     },
     "metadata": {},
     "output_type": "display_data"
    }
   ],
   "source": [
    "view1 = quick_view(conv_struc, conventional = \"True\")\n",
    "display(view1)\n",
    "view1.script(\"draw SYMOP 44 {atomno=3}\")\n"
   ]
  },
  {
   "cell_type": "code",
   "execution_count": null,
   "id": "f88779e4",
   "metadata": {},
   "outputs": [],
   "source": []
  }
 ],
 "metadata": {
  "kernelspec": {
   "display_name": "Python 3 (ipykernel)",
   "language": "python",
   "name": "python3"
  },
  "language_info": {
   "codemirror_mode": {
    "name": "ipython",
    "version": 3
   },
   "file_extension": ".py",
   "mimetype": "text/x-python",
   "name": "python",
   "nbconvert_exporter": "python",
   "pygments_lexer": "ipython3",
   "version": "3.9.13"
  }
 },
 "nbformat": 4,
 "nbformat_minor": 5
}
